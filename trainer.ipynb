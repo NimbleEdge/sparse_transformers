{
 "cells": [
  {
   "cell_type": "code",
   "execution_count": 18,
   "metadata": {},
   "outputs": [],
   "source": [
    "from src.models.modelling_llama_skip import LlamaSkipConnectionForCausalLM, LlamaSkipConnectionConfig\n",
    "from transformers.models.llama import LlamaForCausalLM"
   ]
  },
  {
   "cell_type": "code",
   "execution_count": 19,
   "metadata": {},
   "outputs": [
    {
     "name": "stderr",
     "output_type": "stream",
     "text": [
      "Some weights of LlamaSkipConnectionForCausalLM were not initialized from the model checkpoint at meta-llama/Llama-3.2-1B-Instruct and are newly initialized: ['model.layers.0.mlp.lora_gate_proj.0.weight', 'model.layers.0.mlp.lora_gate_proj.1.weight', 'model.layers.1.mlp.lora_gate_proj.0.weight', 'model.layers.1.mlp.lora_gate_proj.1.weight', 'model.layers.10.mlp.lora_gate_proj.0.weight', 'model.layers.10.mlp.lora_gate_proj.1.weight', 'model.layers.11.mlp.lora_gate_proj.0.weight', 'model.layers.11.mlp.lora_gate_proj.1.weight', 'model.layers.12.mlp.lora_gate_proj.0.weight', 'model.layers.12.mlp.lora_gate_proj.1.weight', 'model.layers.13.mlp.lora_gate_proj.0.weight', 'model.layers.13.mlp.lora_gate_proj.1.weight', 'model.layers.14.mlp.lora_gate_proj.0.weight', 'model.layers.14.mlp.lora_gate_proj.1.weight', 'model.layers.15.mlp.lora_gate_proj.0.weight', 'model.layers.15.mlp.lora_gate_proj.1.weight', 'model.layers.2.mlp.lora_gate_proj.0.weight', 'model.layers.2.mlp.lora_gate_proj.1.weight', 'model.layers.3.mlp.lora_gate_proj.0.weight', 'model.layers.3.mlp.lora_gate_proj.1.weight', 'model.layers.4.mlp.lora_gate_proj.0.weight', 'model.layers.4.mlp.lora_gate_proj.1.weight', 'model.layers.5.mlp.lora_gate_proj.0.weight', 'model.layers.5.mlp.lora_gate_proj.1.weight', 'model.layers.6.mlp.lora_gate_proj.0.weight', 'model.layers.6.mlp.lora_gate_proj.1.weight', 'model.layers.7.mlp.lora_gate_proj.0.weight', 'model.layers.7.mlp.lora_gate_proj.1.weight', 'model.layers.8.mlp.lora_gate_proj.0.weight', 'model.layers.8.mlp.lora_gate_proj.1.weight', 'model.layers.9.mlp.lora_gate_proj.0.weight', 'model.layers.9.mlp.lora_gate_proj.1.weight']\n",
      "You should probably TRAIN this model on a down-stream task to be able to use it for predictions and inference.\n"
     ]
    }
   ],
   "source": [
    "from transformers import pipeline, AutoModelForCausalLM, AutoConfig, AutoModel, BitsAndBytesConfig\n",
    "\n",
    "checkpoint = \"meta-llama/Llama-3.2-1B-Instruct\"\n",
    "AutoConfig.register(\"llama-skip\", LlamaSkipConnectionConfig)\n",
    "AutoModel.register(LlamaSkipConnectionConfig, LlamaSkipConnectionForCausalLM)\n",
    "AutoModelForCausalLM.register(LlamaSkipConnectionConfig, LlamaSkipConnectionForCausalLM)\n",
    "\n",
    "\n",
    "llamaSkipConfig = LlamaSkipConnectionConfig.from_json_file(\"./configs/llama_skip_causal.json\")\n",
    "llamaSkipModel = LlamaSkipConnectionForCausalLM.from_pretrained(checkpoint, config=llamaSkipConfig)"
   ]
  },
  {
   "cell_type": "code",
   "execution_count": 20,
   "metadata": {},
   "outputs": [
    {
     "data": {
      "text/plain": [
       "LlamaSkipConnectionForCausalLM(\n",
       "  (model): LlamaSkipConnectionModel(\n",
       "    (embed_tokens): Embedding(128256, 2048)\n",
       "    (layers): ModuleList(\n",
       "      (0-15): 16 x LlamaSkipDecoderLayer(\n",
       "        (self_attn): LlamaSdpaAttention(\n",
       "          (q_proj): Linear(in_features=2048, out_features=2048, bias=False)\n",
       "          (k_proj): Linear(in_features=2048, out_features=512, bias=False)\n",
       "          (v_proj): Linear(in_features=2048, out_features=512, bias=False)\n",
       "          (o_proj): Linear(in_features=2048, out_features=2048, bias=False)\n",
       "          (rotary_emb): LlamaRotaryEmbedding()\n",
       "        )\n",
       "        (mlp): LlamaSkipMLP(\n",
       "          (gate_proj): Linear(in_features=2048, out_features=8192, bias=False)\n",
       "          (up_proj): Linear(in_features=2048, out_features=8192, bias=False)\n",
       "          (down_proj): Linear(in_features=8192, out_features=2048, bias=False)\n",
       "          (act_fn): SiLU()\n",
       "          (lora_gate_proj): Sequential(\n",
       "            (0): Linear(in_features=2048, out_features=1638, bias=False)\n",
       "            (1): Linear(in_features=1638, out_features=8192, bias=False)\n",
       "          )\n",
       "        )\n",
       "        (input_layernorm): LlamaRMSNorm((2048,), eps=1e-05)\n",
       "        (post_attention_layernorm): LlamaRMSNorm((2048,), eps=1e-05)\n",
       "      )\n",
       "    )\n",
       "    (norm): LlamaRMSNorm((2048,), eps=1e-05)\n",
       "    (rotary_emb): LlamaRotaryEmbedding()\n",
       "  )\n",
       "  (lm_head): Linear(in_features=2048, out_features=128256, bias=False)\n",
       ")"
      ]
     },
     "execution_count": 20,
     "metadata": {},
     "output_type": "execute_result"
    }
   ],
   "source": [
    "from transformers import AutoTokenizer\n",
    "\n",
    "tokenizer = AutoTokenizer.from_pretrained(checkpoint)\n",
    "sequence = \"In a hole in the ground there lived a hobbit.\"\n",
    "input= tokenizer(sequence, return_tensors='pt').input_ids\n",
    "llamaSkipModel.eval()\n"
   ]
  },
  {
   "cell_type": "code",
   "execution_count": 21,
   "metadata": {},
   "outputs": [
    {
     "name": "stderr",
     "output_type": "stream",
     "text": [
      "Hardware accelerator e.g. GPU is available in the environment, but no `device` argument is passed to the `Pipeline` object. Model will be on CPU.\n"
     ]
    }
   ],
   "source": [
    "model_id = \"meta-llama/Llama-3.2-1B-Instruct\"\n",
    "\n",
    "pipe = pipeline(\n",
    "    \"text-generation\",\n",
    "    model=llamaSkipModel,\n",
    "    tokenizer=tokenizer,\n",
    "    max_new_tokens = 1000,\n",
    "    eos_token_id=tokenizer.eos_token_id\n",
    ")\n",
    "messages = [\n",
    "    {\"role\": \"system\", \"content\": \"You are a pirate chatbot who always responds in pirate speak!\"},\n",
    "    {\"role\": \"user\", \"content\": \"Who are you?\"},\n",
    "]\n",
    "# out = pipe.model.generate(input)\n",
    "# tokenizer.decode(out[0])"
   ]
  },
  {
   "cell_type": "code",
   "execution_count": 22,
   "metadata": {},
   "outputs": [
    {
     "name": "stderr",
     "output_type": "stream",
     "text": [
      "Hardware accelerator e.g. GPU is available in the environment, but no `device` argument is passed to the `Pipeline` object. Model will be on CPU.\n"
     ]
    }
   ],
   "source": [
    "standardPipe = pipeline(\n",
    "    \"text-generation\",\n",
    "    model=checkpoint,\n",
    "    tokenizer=tokenizer,\n",
    "    max_new_tokens = 1000,\n",
    "    eos_token_id=tokenizer.eos_token_id\n",
    ")"
   ]
  },
  {
   "cell_type": "code",
   "execution_count": 30,
   "metadata": {},
   "outputs": [
    {
     "name": "stdout",
     "output_type": "stream",
     "text": [
      "5.395598411560059 11.420119524002075\n"
     ]
    }
   ],
   "source": [
    "import time\n",
    "\n",
    "start1 = time.time()\n",
    "for i in range(15):\n",
    "    out = standardPipe.model.forward(input, use_cache=False)\n",
    "\n",
    "start2 = time.time()\n",
    "\n",
    "for i in range(15):\n",
    "    out = pipe.model.forward(input,use_cache=False)\n",
    "\n",
    "\n",
    "start3 = time.time()\n",
    "\n",
    "print(start3-start2, start2-start1)\n"
   ]
  }
 ],
 "metadata": {
  "kernelspec": {
   "display_name": "myenv",
   "language": "python",
   "name": "python3"
  },
  "language_info": {
   "codemirror_mode": {
    "name": "ipython",
    "version": 3
   },
   "file_extension": ".py",
   "mimetype": "text/x-python",
   "name": "python",
   "nbconvert_exporter": "python",
   "pygments_lexer": "ipython3",
   "version": "3.10.15"
  }
 },
 "nbformat": 4,
 "nbformat_minor": 2
}
